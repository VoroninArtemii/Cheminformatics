{
 "cells": [
  {
   "cell_type": "code",
   "execution_count": 2,
   "metadata": {
    "colab": {
     "base_uri": "https://localhost:8080/",
     "height": 1000
    },
    "id": "t1SAaKBUVJTN",
    "outputId": "b3a2b2f0-e363-47c1-8101-a3e30589f202",
    "scrolled": true
   },
   "outputs": [],
   "source": [
    "import numpy as np\n",
    "import pandas as pd\n",
    "df = pd.read_excel('dataset.xlsx', sheet_name = 'Smile-IC50-CC50')\n",
    "df2 = pd.read_excel('dataset.xlsx', sheet_name = 1)\n",
    "df2.drop(labels = ['molecule', 'Pictures', 'SMILES', 'IC50, mmg/ml', 'CC50-MDCK, mmg/ml', 'SI'], axis = 1, inplace = True)\n",
    "df = df.join(df2)\n",
    "df.drop(labels = ['Pictures', 'Title'], axis = 1, inplace = True)\n",
    "df = df.iloc[:,:-2]\n",
    "df = df.dropna()\n",
    "unique_substances = list(df['SMILES'].drop_duplicates())\n",
    "new_df = None\n",
    "for subs in unique_substances:\n",
    "  subdf = df[df['SMILES'] == subs]\n",
    "  df.loc[df['SMILES'] == subs, 'IC50, mmg/ml'] = np.array([subdf['IC50, mmg/ml'].mean()]*subdf.shape[0]).reshape(-1, 1)\n",
    "  df.loc[df['SMILES'] == subs, 'CC50-MDCK, mmg/ml'] = np.array([subdf['CC50-MDCK, mmg/ml'].mean()]*subdf.shape[0]).reshape(-1, 1)\n",
    "  if new_df is None:\n",
    "    new_df = df[df['SMILES'] == subs].head(1)\n",
    "  else:\n",
    "    new_df = pd.concat([new_df, df[df['SMILES'] == subs].head(1)])\n",
    "new_df.drop(labels = ['SI'], axis = 1, inplace = True)"
   ]
  },
  {
   "cell_type": "code",
   "execution_count": 3,
   "metadata": {
    "colab": {
     "base_uri": "https://localhost:8080/",
     "height": 1000
    },
    "id": "xITSMa49aL6F",
    "outputId": "e4a30681-855a-4af5-8c12-b3b0d3cf672d",
    "scrolled": true
   },
   "outputs": [
    {
     "name": "stderr",
     "output_type": "stream",
     "text": [
      "[15:28:08] Conflicting single bond directions around double bond at index 55.\n",
      "[15:28:08]   BondStereo set to STEREONONE and single bond directions set to NONE.\n",
      "[15:28:08] Conflicting single bond directions around double bond at index 55.\n",
      "[15:28:08]   BondStereo set to STEREONONE and single bond directions set to NONE.\n",
      "[15:28:09] Conflicting single bond directions around double bond at index 55.\n",
      "[15:28:09]   BondStereo set to STEREONONE and single bond directions set to NONE.\n",
      "[15:28:09] Conflicting single bond directions around double bond at index 55.\n",
      "[15:28:09]   BondStereo set to STEREONONE and single bond directions set to NONE.\n",
      "[15:28:10] Conflicting single bond directions around double bond at index 55.\n",
      "[15:28:10]   BondStereo set to STEREONONE and single bond directions set to NONE.\n",
      "[15:28:10] Conflicting single bond directions around double bond at index 55.\n",
      "[15:28:10]   BondStereo set to STEREONONE and single bond directions set to NONE.\n",
      "[15:28:10] Conflicting single bond directions around double bond at index 55.\n",
      "[15:28:10]   BondStereo set to STEREONONE and single bond directions set to NONE.\n",
      "[15:28:11] Conflicting single bond directions around double bond at index 55.\n",
      "[15:28:11]   BondStereo set to STEREONONE and single bond directions set to NONE.\n",
      "[15:28:11] Conflicting single bond directions around double bond at index 55.\n",
      "[15:28:11]   BondStereo set to STEREONONE and single bond directions set to NONE.\n",
      "[15:28:12] Conflicting single bond directions around double bond at index 55.\n",
      "[15:28:12]   BondStereo set to STEREONONE and single bond directions set to NONE.\n",
      "[15:28:12] Conflicting single bond directions around double bond at index 55.\n",
      "[15:28:12]   BondStereo set to STEREONONE and single bond directions set to NONE.\n",
      "[15:28:13] Conflicting single bond directions around double bond at index 55.\n",
      "[15:28:13]   BondStereo set to STEREONONE and single bond directions set to NONE.\n",
      "[15:28:13] Conflicting single bond directions around double bond at index 55.\n",
      "[15:28:13]   BondStereo set to STEREONONE and single bond directions set to NONE.\n",
      "[15:28:14] Conflicting single bond directions around double bond at index 55.\n",
      "[15:28:14]   BondStereo set to STEREONONE and single bond directions set to NONE.\n",
      "[15:28:15] Conflicting single bond directions around double bond at index 55.\n",
      "[15:28:15]   BondStereo set to STEREONONE and single bond directions set to NONE.\n"
     ]
    }
   ],
   "source": [
    "from rdkit import Chem\n",
    "from rdkit.Chem import Descriptors\n",
    "descriptors = {\"HeavyAtomCount\": Descriptors.HeavyAtomCount,\n",
    "               \"NHOHCount\": Descriptors.NHOHCount,\n",
    "               \"NOCount\": Descriptors.NOCount,\n",
    "               \"NumHAcceptors\": Descriptors.NumHAcceptors,\n",
    "               \"NumHDonors\": Descriptors.NumHDonors,\n",
    "               \"NumHeteroatoms\": Descriptors.NumHeteroatoms,\n",
    "               \"NumRotatableBonds\": Descriptors.NumRotatableBonds,\n",
    "               \"NumValenceElectrons\": Descriptors.NumValenceElectrons,\n",
    "               \"NumAromaticRings\": Descriptors.NumAromaticRings,\n",
    "               \"NumAliphaticHeterocycles\": Descriptors.NumAliphaticHeterocycles,\n",
    "               \"RingCount\": Descriptors.RingCount,\n",
    "               \"MW\": Descriptors.MolWt,\n",
    "               \"LogP\": Descriptors.MolLogP,\n",
    "               \"MR\": Descriptors.MolMR,\n",
    "               \"TPSA\": Descriptors.TPSA}\n",
    "for k, f in descriptors.items():\n",
    "  col = [f(Chem.MolFromSmiles(i)) for i in np.array(new_df['SMILES'])]\n",
    "  new_df.insert(loc=new_df.shape[1], column=k, value=col)"
   ]
  },
  {
   "cell_type": "code",
   "execution_count": 4,
   "metadata": {},
   "outputs": [],
   "source": [
    "new_df = new_df.drop(['SMILES'], axis=1)\n",
    "top_features = [(new_df.iloc[:,i].corr(new_df['IC50, mmg/ml']), new_df.columns[i]) for i in range(2, new_df.shape[1])]\n",
    "sorted(top_features, key=lambda x: abs(x[0]), reverse=True)[:10]\n",
    "new_df = new_df[new_df['IC50, mmg/ml'] > new_df['IC50, mmg/ml'].quantile(0.25)]\n",
    "new_df = new_df[new_df['CC50-MDCK, mmg/ml'] < new_df['CC50-MDCK, mmg/ml'].quantile(0.75)]\n",
    "top_features = [(new_df.iloc[:,i].corr(new_df['IC50, mmg/ml']), new_df.columns[i]) for i in range(2, new_df.shape[1])]\n",
    "top_features = sorted(top_features, key=lambda x: abs(x[0]), reverse=True)[:10]"
   ]
  },
  {
   "cell_type": "code",
   "execution_count": 5,
   "metadata": {
    "id": "_7QDKLcSBj2r",
    "scrolled": true
   },
   "outputs": [
    {
     "data": {
      "text/plain": [
       "1143.4902960004342"
      ]
     },
     "execution_count": 5,
     "metadata": {},
     "output_type": "execute_result"
    }
   ],
   "source": [
    "from sklearn.model_selection import train_test_split\n",
    "from sklearn.ensemble import GradientBoostingRegressor\n",
    "from sklearn.metrics import mean_squared_error\n",
    "x_train, x_test, y_train, y_test = train_test_split(new_df[[v for k, v in top_features]], new_df['IC50, mmg/ml'], test_size=0.3)\n",
    "params = {'n_estimators':200,\n",
    "          'max_depth':12,\n",
    "          'criterion':'squared_error',\n",
    "          'learning_rate':0.03,\n",
    "          'min_samples_leaf':16,\n",
    "          'min_samples_split':16}\n",
    "model = GradientBoostingRegressor(**params)\n",
    "model = model.fit(x_train, y_train)\n",
    "mean_squared_error(model.predict(x_test), y_test)"
   ]
  }
 ],
 "metadata": {
  "colab": {
   "provenance": []
  },
  "kernelspec": {
   "display_name": "Python 3 (ipykernel)",
   "language": "python",
   "name": "python3"
  },
  "language_info": {
   "codemirror_mode": {
    "name": "ipython",
    "version": 3
   },
   "file_extension": ".py",
   "mimetype": "text/x-python",
   "name": "python",
   "nbconvert_exporter": "python",
   "pygments_lexer": "ipython3",
   "version": "3.10.12"
  }
 },
 "nbformat": 4,
 "nbformat_minor": 1
}
